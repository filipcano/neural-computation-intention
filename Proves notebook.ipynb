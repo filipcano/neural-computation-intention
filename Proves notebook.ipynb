{
 "cells": [
  {
   "cell_type": "code",
   "execution_count": 1,
   "id": "5f8afe3c",
   "metadata": {},
   "outputs": [],
   "source": [
    "from traffic_env import TrafficEnvironment\n",
    "import numpy as np\n",
    "import itertools\n",
    "import docker, os\n",
    "from sklearn.tree import DecisionTreeClassifier, export_text"
   ]
  },
  {
   "cell_type": "markdown",
   "id": "add498f2",
   "metadata": {},
   "source": [
    "Last used: Sep 12"
   ]
  },
  {
   "cell_type": "markdown",
   "id": "dba21f94",
   "metadata": {},
   "source": [
    "## SKlearn extract Q-learning strategy as tree -- Example"
   ]
  },
  {
   "cell_type": "code",
   "execution_count": null,
   "id": "ba5ce199",
   "metadata": {},
   "outputs": [],
   "source": []
  },
  {
   "cell_type": "code",
   "execution_count": 2,
   "id": "ea191819",
   "metadata": {},
   "outputs": [],
   "source": [
    "def choose_action(state, q_table, action_space):\n",
    "    return np.argmax(q_table[state])"
   ]
  },
  {
   "cell_type": "code",
   "execution_count": 16,
   "id": "fd84b3b4",
   "metadata": {},
   "outputs": [],
   "source": [
    "def evaluate_cost(tree, data, labels, costs):\n",
    "    predictions = tree.predict(data)\n",
    "    incorrect = predictions != labels\n",
    "    cost_function_value = np.sum(costs[incorrect])\n",
    "    return cost_function_value\n",
    "\n",
    "\n",
    "def extract_rules(tree, feature_names, class_names, max_depth=None):\n",
    "    class_rules = {cls: [] for cls in class_names}\n",
    "\n",
    "    def recurse(node, depth, conditions):\n",
    "        if depth > max_depth:\n",
    "            return\n",
    "        if tree.tree_.children_left[node] == tree.tree_.children_right[node]:  # Leaf node\n",
    "            # Find the dominant class at this leaf\n",
    "            outputs = tree.tree_.value[node][0]\n",
    "            class_index = outputs.argmax()\n",
    "            class_name = class_names[class_index]\n",
    "            # Create rule as a conjunction of conditions\n",
    "            rule = \" & \".join(f\"({cond})\" for cond in conditions)\n",
    "            class_rules[class_name].append(rule)\n",
    "            return\n",
    "\n",
    "        # Condition for the left child\n",
    "        if tree.tree_.children_left[node] != -1:\n",
    "            left_condition = f\"{feature_names[tree.tree_.feature[node]]} <= {tree.tree_.threshold[node]:.4f}\"\n",
    "            recurse(tree.tree_.children_left[node], depth + 1, conditions + [left_condition])\n",
    "\n",
    "        # Condition for the right child\n",
    "        if tree.tree_.children_right[node] != -1:\n",
    "            right_condition = f\"{feature_names[tree.tree_.feature[node]]} > {tree.tree_.threshold[node]:.4f}\"\n",
    "            recurse(tree.tree_.children_right[node], depth + 1, conditions + [right_condition])\n",
    "\n",
    "    # Start recursion from the root with an empty condition list\n",
    "    recurse(0, 0, [])\n",
    "    return class_rules"
   ]
  },
  {
   "cell_type": "code",
   "execution_count": 18,
   "id": "95faecac",
   "metadata": {},
   "outputs": [],
   "source": [
    "def flatten_space(space, values):\n",
    "    low = space.low\n",
    "    shape = space.shape\n",
    "    flat_value = 0\n",
    "    for i, (val, lo) in enumerate(zip(values, low)):\n",
    "        flat_value *= (space.high[i] - lo + 1)\n",
    "        flat_value += (val - lo)\n",
    "    return int(flat_value)"
   ]
  },
  {
   "cell_type": "code",
   "execution_count": null,
   "id": "720e1c50",
   "metadata": {},
   "outputs": [],
   "source": []
  },
  {
   "cell_type": "code",
   "execution_count": 19,
   "id": "473949f3",
   "metadata": {},
   "outputs": [
    {
     "name": "stdout",
     "output_type": "stream",
     "text": [
      "[0.  0.4 0.4 0.2] [0.44503384 0.39451191 0.13210815 0.0283461 ]\n"
     ]
    }
   ],
   "source": [
    "env = TrafficEnvironment(paramsfile=\"params_files/params_example.json\")\n",
    "env.do_render = False\n",
    "\n",
    "# Discretize the observation and action spaces\n",
    "observation_space = env.observation_space\n",
    "action_space = env.action_space\n",
    "\n",
    "# Initialize Q-table\n",
    "# q_table = init_q_table(observation_space, action_space)\n",
    "\n",
    "q_table = np.load('qtable_saved3.npy', allow_pickle=True)\n",
    "\n",
    "observation, info = env.reset()\n",
    "state = flatten_space(observation_space, observation)  # Flatten observation into discrete state"
   ]
  },
  {
   "cell_type": "code",
   "execution_count": 20,
   "id": "e96027b1",
   "metadata": {},
   "outputs": [],
   "source": [
    "# low = observation_space.low\n",
    "# high = observation_space.high\n",
    "\n",
    "# acts = {-1: [], 0: [], 1: []}\n",
    "# reversed_acts = {}\n",
    "# overall_min_q_value = np.min(q_table)\n",
    "\n",
    "# # Dynamically create ranges for each dimension based on the shape\n",
    "# ranges = [range(int(low[i]), int(high[i]) + 1) for i in range(observation_space.shape[0])]\n",
    "\n",
    "# # Iterate over all combinations of values in the space\n",
    "# for combination in itertools.product(*ranges):\n",
    "#     flatstate = flatten_space(observation_space, combination)\n",
    "#     action = np.argmax(q_table[flatstate])\n",
    "#     cost = q_table[flatstate,action] - overall_min_q_value\n",
    "# #     action, cost = choose_action(flatstate, q_table, action_space)\n",
    "#         # Unflatten action index to get corresponding action values\n",
    "#     action_unflattened = np.unravel_index(action, [int(high - low + 1) for low, high in zip(action_space.low, action_space.high)])\n",
    "#     action_unflattened = [int(low + val) for val, low in zip(action_unflattened, action_space.low)]  # Convert back to original scale\n",
    "#     car_action = action_unflattened[0]\n",
    "#     acts[car_action].append(combination)\n",
    "#     reversed_acts[combination] = (car_action, cost)\n",
    "#     #     print(combination)\n",
    "    "
   ]
  },
  {
   "cell_type": "code",
   "execution_count": null,
   "id": "1c724cb0",
   "metadata": {},
   "outputs": [],
   "source": []
  },
  {
   "cell_type": "code",
   "execution_count": 21,
   "id": "b451f454",
   "metadata": {},
   "outputs": [],
   "source": [
    "## EFFICIENT_VERSION\n",
    "\n",
    "# Compute the Cartesian product of these ranges and Convert the list of tuples to a NumPy array\n",
    "ranges = [range(int(observation_space.low[i]), int(observation_space.high[i]) + 1) for i in range(observation_space.shape[0])]\n",
    "obs_data = np.array(list(itertools.product(*ranges)))\n",
    "\n",
    "# same for action space\n",
    "ranges = [range(int(action_space.low[i]), int(action_space.high[i]) + 1) for i in range(action_space.shape[0])]\n",
    "act_data = np.array(list(itertools.product(*ranges)))\n",
    "\n",
    "overall_min_q_value = np.min(q_table)\n",
    "\n",
    "action_chosen = act_data[np.argmax(q_table, axis=1),:][:,0]\n",
    "costs = np.max(q_table, axis=1) - overall_min_q_value"
   ]
  },
  {
   "cell_type": "code",
   "execution_count": 22,
   "id": "a80ec865",
   "metadata": {},
   "outputs": [
    {
     "name": "stdout",
     "output_type": "stream",
     "text": [
      "Cost function value: 19.52947044606372%\n",
      "Rules for class -1:\n",
      "  - (ped_y <= 4.5000) & (car_v <= 3.5000) & (ped_x <= 55.5000) & (ped_y <= 2.5000) & (car_x <= 27.5000) & (car_x <= 11.5000) & (ped_y > 0.5000) & (car_v > 0.5000) | (ped_y <= 4.5000) & (car_v <= 3.5000) & (ped_x <= 55.5000) & (ped_y <= 2.5000) & (car_x > 27.5000) & (car_x > 59.5000) | (ped_y <= 4.5000) & (car_v <= 3.5000) & (ped_x <= 55.5000) & (ped_y > 2.5000) & (car_v <= 2.5000) & (car_x <= 17.5000) & (car_v > 0.5000) & (car_x <= 14.5000) | (ped_y <= 4.5000) & (car_v <= 3.5000) & (ped_x <= 55.5000) & (ped_y > 2.5000) & (car_v <= 2.5000) & (car_x <= 17.5000) & (car_v > 0.5000) & (car_x > 14.5000) | (ped_y <= 4.5000) & (car_v <= 3.5000) & (ped_x <= 55.5000) & (ped_y > 2.5000) & (car_v <= 2.5000) & (car_x > 17.5000) & (car_x > 59.5000) & (ped_y <= 3.5000) | (ped_y <= 4.5000) & (car_v <= 3.5000) & (ped_x <= 55.5000) & (ped_y > 2.5000) & (car_v <= 2.5000) & (car_x > 17.5000) & (car_x > 59.5000) & (ped_y > 3.5000) | (ped_y <= 4.5000) & (car_v <= 3.5000) & (ped_x <= 55.5000) & (ped_y > 2.5000) & (car_v > 2.5000) & (ped_y <= 3.5000) & (car_x <= 17.5000) & (car_x <= 16.5000) | (ped_y <= 4.5000) & (car_v <= 3.5000) & (ped_x <= 55.5000) & (ped_y > 2.5000) & (car_v > 2.5000) & (ped_y <= 3.5000) & (car_x <= 17.5000) & (car_x > 16.5000) | (ped_y <= 4.5000) & (car_v <= 3.5000) & (ped_x <= 55.5000) & (ped_y > 2.5000) & (car_v > 2.5000) & (ped_y <= 3.5000) & (car_x > 17.5000) & (ped_x > 43.5000) | (ped_y <= 4.5000) & (car_v <= 3.5000) & (ped_x <= 55.5000) & (ped_y > 2.5000) & (car_v > 2.5000) & (ped_y > 3.5000) & (car_x <= 25.5000) & (car_x <= 24.5000) | (ped_y <= 4.5000) & (car_v <= 3.5000) & (ped_x <= 55.5000) & (ped_y > 2.5000) & (car_v > 2.5000) & (ped_y > 3.5000) & (car_x <= 25.5000) & (car_x > 24.5000) | (ped_y <= 4.5000) & (car_v <= 3.5000) & (ped_x <= 55.5000) & (ped_y > 2.5000) & (car_v > 2.5000) & (ped_y > 3.5000) & (car_x > 25.5000) & (car_x <= 50.5000) | (ped_y <= 4.5000) & (car_v <= 3.5000) & (ped_x <= 55.5000) & (ped_y > 2.5000) & (car_v > 2.5000) & (ped_y > 3.5000) & (car_x > 25.5000) & (car_x > 50.5000) | (ped_y <= 4.5000) & (car_v <= 3.5000) & (ped_x > 55.5000) & (car_v <= 0.5000) & (car_x <= 56.5000) & (car_x <= 16.5000) & (ped_x <= 58.5000) & (ped_y > 2.5000) | (ped_y <= 4.5000) & (car_v <= 3.5000) & (ped_x > 55.5000) & (car_v <= 0.5000) & (car_x <= 56.5000) & (car_x <= 16.5000) & (ped_x > 58.5000) & (car_x <= 14.5000) | (ped_y <= 4.5000) & (car_v <= 3.5000) & (ped_x > 55.5000) & (car_v <= 0.5000) & (car_x <= 56.5000) & (car_x <= 16.5000) & (ped_x > 58.5000) & (car_x > 14.5000) | (ped_y <= 4.5000) & (car_v <= 3.5000) & (ped_x > 55.5000) & (car_v <= 0.5000) & (car_x <= 56.5000) & (car_x > 16.5000) & (ped_x > 59.5000) & (car_x <= 19.5000) | (ped_y <= 4.5000) & (car_v <= 3.5000) & (ped_x > 55.5000) & (car_v <= 0.5000) & (car_x > 56.5000) & (ped_y <= 0.5000) & (ped_x <= 56.5000) & (car_x > 59.5000) | (ped_y <= 4.5000) & (car_v <= 3.5000) & (ped_x > 55.5000) & (car_v <= 0.5000) & (car_x > 56.5000) & (ped_y <= 0.5000) & (ped_x > 56.5000) & (car_x > 57.5000) | (ped_y <= 4.5000) & (car_v <= 3.5000) & (ped_x > 55.5000) & (car_v <= 0.5000) & (car_x > 56.5000) & (ped_y > 0.5000) & (ped_y <= 1.5000) & (ped_x <= 56.5000) | (ped_y <= 4.5000) & (car_v <= 3.5000) & (ped_x > 55.5000) & (car_v <= 0.5000) & (car_x > 56.5000) & (ped_y > 0.5000) & (ped_y <= 1.5000) & (ped_x > 56.5000) | (ped_y <= 4.5000) & (car_v <= 3.5000) & (ped_x > 55.5000) & (car_v <= 0.5000) & (car_x > 56.5000) & (ped_y > 0.5000) & (ped_y > 1.5000) & (ped_x <= 56.5000) | (ped_y <= 4.5000) & (car_v <= 3.5000) & (ped_x > 55.5000) & (car_v <= 0.5000) & (car_x > 56.5000) & (ped_y > 0.5000) & (ped_y > 1.5000) & (ped_x > 56.5000) | (ped_y <= 4.5000) & (car_v <= 3.5000) & (ped_x > 55.5000) & (car_v > 0.5000) & (ped_x <= 57.5000) & (ped_y <= 2.5000) & (car_x <= 16.5000) & (car_x <= 14.5000) | (ped_y <= 4.5000) & (car_v <= 3.5000) & (ped_x > 55.5000) & (car_v > 0.5000) & (ped_x <= 57.5000) & (ped_y <= 2.5000) & (car_x <= 16.5000) & (car_x > 14.5000) | (ped_y <= 4.5000) & (car_v <= 3.5000) & (ped_x > 55.5000) & (car_v > 0.5000) & (ped_x <= 57.5000) & (ped_y <= 2.5000) & (car_x > 16.5000) & (car_x > 55.5000) | (ped_y <= 4.5000) & (car_v <= 3.5000) & (ped_x > 55.5000) & (car_v > 0.5000) & (ped_x <= 57.5000) & (ped_y > 2.5000) & (car_v <= 1.5000) & (car_x <= 23.5000) | (ped_y <= 4.5000) & (car_v <= 3.5000) & (ped_x > 55.5000) & (car_v > 0.5000) & (ped_x <= 57.5000) & (ped_y > 2.5000) & (car_v <= 1.5000) & (car_x > 23.5000) | (ped_y <= 4.5000) & (car_v <= 3.5000) & (ped_x > 55.5000) & (car_v > 0.5000) & (ped_x <= 57.5000) & (ped_y > 2.5000) & (car_v > 1.5000) & (car_v <= 2.5000) | (ped_y <= 4.5000) & (car_v <= 3.5000) & (ped_x > 55.5000) & (car_v > 0.5000) & (ped_x <= 57.5000) & (ped_y > 2.5000) & (car_v > 1.5000) & (car_v > 2.5000) | (ped_y <= 4.5000) & (car_v <= 3.5000) & (ped_x > 55.5000) & (car_v > 0.5000) & (ped_x > 57.5000) & (car_v <= 1.5000) & (ped_y <= 2.5000) & (car_x <= 22.5000) | (ped_y <= 4.5000) & (car_v <= 3.5000) & (ped_x > 55.5000) & (car_v > 0.5000) & (ped_x > 57.5000) & (car_v <= 1.5000) & (ped_y <= 2.5000) & (car_x > 22.5000) | (ped_y <= 4.5000) & (car_v <= 3.5000) & (ped_x > 55.5000) & (car_v > 0.5000) & (ped_x > 57.5000) & (car_v <= 1.5000) & (ped_y > 2.5000) & (ped_x <= 58.5000) | (ped_y <= 4.5000) & (car_v <= 3.5000) & (ped_x > 55.5000) & (car_v > 0.5000) & (ped_x > 57.5000) & (car_v <= 1.5000) & (ped_y > 2.5000) & (ped_x > 58.5000) | (ped_y <= 4.5000) & (car_v <= 3.5000) & (ped_x > 55.5000) & (car_v > 0.5000) & (ped_x > 57.5000) & (car_v > 1.5000) & (ped_x <= 58.5000) & (ped_y <= 1.5000) | (ped_y <= 4.5000) & (car_v <= 3.5000) & (ped_x > 55.5000) & (car_v > 0.5000) & (ped_x > 57.5000) & (car_v > 1.5000) & (ped_x <= 58.5000) & (ped_y > 1.5000) | (ped_y <= 4.5000) & (car_v <= 3.5000) & (ped_x > 55.5000) & (car_v > 0.5000) & (ped_x > 57.5000) & (car_v > 1.5000) & (ped_x > 58.5000) & (car_x <= 36.5000) | (ped_y <= 4.5000) & (car_v <= 3.5000) & (ped_x > 55.5000) & (car_v > 0.5000) & (ped_x > 57.5000) & (car_v > 1.5000) & (ped_x > 58.5000) & (car_x > 36.5000) | (ped_y <= 4.5000) & (car_v > 3.5000) & (ped_y <= 1.5000) & (ped_x <= 55.5000) & (car_v <= 4.5000) & (car_x <= 32.5000) & (car_x <= 21.5000) & (car_x <= 13.5000) | (ped_y <= 4.5000) & (car_v > 3.5000) & (ped_y <= 1.5000) & (ped_x <= 55.5000) & (car_v <= 4.5000) & (car_x > 32.5000) & (car_x > 48.5000) & (car_x <= 58.5000) | (ped_y <= 4.5000) & (car_v > 3.5000) & (ped_y <= 1.5000) & (ped_x <= 55.5000) & (car_v <= 4.5000) & (car_x > 32.5000) & (car_x > 48.5000) & (car_x > 58.5000) | (ped_y <= 4.5000) & (car_v > 3.5000) & (ped_y <= 1.5000) & (ped_x <= 55.5000) & (car_v > 4.5000) & (car_x <= 34.5000) & (car_x <= 14.5000) | (ped_y <= 4.5000) & (car_v > 3.5000) & (ped_y <= 1.5000) & (ped_x <= 55.5000) & (car_v > 4.5000) & (car_x > 34.5000) & (car_x <= 49.5000) & (ped_y <= 0.5000) | (ped_y <= 4.5000) & (car_v > 3.5000) & (ped_y <= 1.5000) & (ped_x <= 55.5000) & (car_v > 4.5000) & (car_x > 34.5000) & (car_x <= 49.5000) & (ped_y > 0.5000) | (ped_y <= 4.5000) & (car_v > 3.5000) & (ped_y <= 1.5000) & (ped_x <= 55.5000) & (car_v > 4.5000) & (car_x > 34.5000) & (car_x > 49.5000) & (car_x <= 57.5000) | (ped_y <= 4.5000) & (car_v > 3.5000) & (ped_y <= 1.5000) & (ped_x <= 55.5000) & (car_v > 4.5000) & (car_x > 34.5000) & (car_x > 49.5000) & (car_x > 57.5000) | (ped_y <= 4.5000) & (car_v > 3.5000) & (ped_y <= 1.5000) & (ped_x > 55.5000) & (ped_x <= 56.5000) & (ped_y <= 0.5000) & (car_v <= 4.5000) & (car_x <= 38.5000) | (ped_y <= 4.5000) & (car_v > 3.5000) & (ped_y <= 1.5000) & (ped_x > 55.5000) & (ped_x <= 56.5000) & (ped_y <= 0.5000) & (car_v <= 4.5000) & (car_x > 38.5000) | (ped_y <= 4.5000) & (car_v > 3.5000) & (ped_y <= 1.5000) & (ped_x > 55.5000) & (ped_x <= 56.5000) & (ped_y <= 0.5000) & (car_v > 4.5000) & (car_x <= 57.5000) | (ped_y <= 4.5000) & (car_v > 3.5000) & (ped_y <= 1.5000) & (ped_x > 55.5000) & (ped_x <= 56.5000) & (ped_y <= 0.5000) & (car_v > 4.5000) & (car_x > 57.5000) | (ped_y <= 4.5000) & (car_v > 3.5000) & (ped_y <= 1.5000) & (ped_x > 55.5000) & (ped_x <= 56.5000) & (ped_y > 0.5000) | (ped_y <= 4.5000) & (car_v > 3.5000) & (ped_y <= 1.5000) & (ped_x > 55.5000) & (ped_x > 56.5000) & (car_x <= 10.5000) | (ped_y <= 4.5000) & (car_v > 3.5000) & (ped_y <= 1.5000) & (ped_x > 55.5000) & (ped_x > 56.5000) & (car_x > 10.5000) | (ped_y <= 4.5000) & (car_v > 3.5000) & (ped_y > 1.5000) & (ped_y <= 2.5000) & (car_v <= 4.5000) & (car_x <= 18.5000) & (car_x <= 17.5000) | (ped_y <= 4.5000) & (car_v > 3.5000) & (ped_y > 1.5000) & (ped_y <= 2.5000) & (car_v <= 4.5000) & (car_x <= 18.5000) & (car_x > 17.5000) & (ped_x <= 38.5000) | (ped_y <= 4.5000) & (car_v > 3.5000) & (ped_y > 1.5000) & (ped_y <= 2.5000) & (car_v <= 4.5000) & (car_x <= 18.5000) & (car_x > 17.5000) & (ped_x > 38.5000) | (ped_y <= 4.5000) & (car_v > 3.5000) & (ped_y > 1.5000) & (ped_y <= 2.5000) & (car_v <= 4.5000) & (car_x > 18.5000) & (car_x <= 37.5000) & (ped_x > 54.5000) | (ped_y <= 4.5000) & (car_v > 3.5000) & (ped_y > 1.5000) & (ped_y <= 2.5000) & (car_v <= 4.5000) & (car_x > 18.5000) & (car_x > 37.5000) & (ped_x <= 51.5000) | (ped_y <= 4.5000) & (car_v > 3.5000) & (ped_y > 1.5000) & (ped_y <= 2.5000) & (car_v <= 4.5000) & (car_x > 18.5000) & (car_x > 37.5000) & (ped_x > 51.5000) | (ped_y <= 4.5000) & (car_v > 3.5000) & (ped_y > 1.5000) & (ped_y <= 2.5000) & (car_v > 4.5000) & (car_x <= 54.5000) & (car_x <= 29.5000) & (car_x <= 20.5000) | (ped_y <= 4.5000) & (car_v > 3.5000) & (ped_y > 1.5000) & (ped_y <= 2.5000) & (car_v > 4.5000) & (car_x <= 54.5000) & (car_x <= 29.5000) & (car_x > 20.5000) | (ped_y <= 4.5000) & (car_v > 3.5000) & (ped_y > 1.5000) & (ped_y <= 2.5000) & (car_v > 4.5000) & (car_x <= 54.5000) & (car_x > 29.5000) & (car_x <= 50.5000) | (ped_y <= 4.5000) & (car_v > 3.5000) & (ped_y > 1.5000) & (ped_y <= 2.5000) & (car_v > 4.5000) & (car_x <= 54.5000) & (car_x > 29.5000) & (car_x > 50.5000) | (ped_y <= 4.5000) & (car_v > 3.5000) & (ped_y > 1.5000) & (ped_y <= 2.5000) & (car_v > 4.5000) & (car_x > 54.5000) & (car_x <= 56.5000) & (ped_x > 38.5000) | (ped_y <= 4.5000) & (car_v > 3.5000) & (ped_y > 1.5000) & (ped_y <= 2.5000) & (car_v > 4.5000) & (car_x > 54.5000) & (car_x > 56.5000) & (car_x <= 59.5000) | (ped_y <= 4.5000) & (car_v > 3.5000) & (ped_y > 1.5000) & (ped_y <= 2.5000) & (car_v > 4.5000) & (car_x > 54.5000) & (car_x > 56.5000) & (car_x > 59.5000) | (ped_y <= 4.5000) & (car_v > 3.5000) & (ped_y > 1.5000) & (ped_y > 2.5000) & (car_x <= 54.5000) & (ped_y <= 3.5000) & (car_v <= 4.5000) & (ped_x <= 42.5000) | (ped_y <= 4.5000) & (car_v > 3.5000) & (ped_y > 1.5000) & (ped_y > 2.5000) & (car_x <= 54.5000) & (ped_y <= 3.5000) & (car_v <= 4.5000) & (ped_x > 42.5000) | (ped_y <= 4.5000) & (car_v > 3.5000) & (ped_y > 1.5000) & (ped_y > 2.5000) & (car_x <= 54.5000) & (ped_y <= 3.5000) & (car_v > 4.5000) & (car_x <= 49.5000) | (ped_y <= 4.5000) & (car_v > 3.5000) & (ped_y > 1.5000) & (ped_y > 2.5000) & (car_x <= 54.5000) & (ped_y <= 3.5000) & (car_v > 4.5000) & (car_x > 49.5000) | (ped_y <= 4.5000) & (car_v > 3.5000) & (ped_y > 1.5000) & (ped_y > 2.5000) & (car_x <= 54.5000) & (ped_y > 3.5000) & (car_x <= 50.5000) & (ped_x <= 44.5000) | (ped_y <= 4.5000) & (car_v > 3.5000) & (ped_y > 1.5000) & (ped_y > 2.5000) & (car_x <= 54.5000) & (ped_y > 3.5000) & (car_x <= 50.5000) & (ped_x > 44.5000) | (ped_y <= 4.5000) & (car_v > 3.5000) & (ped_y > 1.5000) & (ped_y > 2.5000) & (car_x <= 54.5000) & (ped_y > 3.5000) & (car_x > 50.5000) & (ped_x <= 14.5000) | (ped_y <= 4.5000) & (car_v > 3.5000) & (ped_y > 1.5000) & (ped_y > 2.5000) & (car_x <= 54.5000) & (ped_y > 3.5000) & (car_x > 50.5000) & (ped_x > 14.5000) | (ped_y <= 4.5000) & (car_v > 3.5000) & (ped_y > 1.5000) & (ped_y > 2.5000) & (car_x > 54.5000) & (car_x <= 59.5000) & (ped_x <= 54.5000) & (ped_y <= 3.5000) | (ped_y <= 4.5000) & (car_v > 3.5000) & (ped_y > 1.5000) & (ped_y > 2.5000) & (car_x > 54.5000) & (car_x <= 59.5000) & (ped_x <= 54.5000) & (ped_y > 3.5000) | (ped_y <= 4.5000) & (car_v > 3.5000) & (ped_y > 1.5000) & (ped_y > 2.5000) & (car_x > 54.5000) & (car_x <= 59.5000) & (ped_x > 54.5000) & (ped_x <= 55.5000) | (ped_y <= 4.5000) & (car_v > 3.5000) & (ped_y > 1.5000) & (ped_y > 2.5000) & (car_x > 54.5000) & (car_x <= 59.5000) & (ped_x > 54.5000) & (ped_x > 55.5000) | (ped_y <= 4.5000) & (car_v > 3.5000) & (ped_y > 1.5000) & (ped_y > 2.5000) & (car_x > 54.5000) & (car_x > 59.5000) | (ped_y > 4.5000) & (car_v <= 0.5000) & (ped_y <= 10.5000) & (ped_x <= 55.5000) & (ped_y <= 9.5000) & (car_x <= 20.5000) & (ped_y > 7.5000) & (car_x <= 15.5000) | (ped_y > 4.5000) & (car_v <= 0.5000) & (ped_y <= 10.5000) & (ped_x <= 55.5000) & (ped_y <= 9.5000) & (car_x > 20.5000) & (car_x > 59.5000) & (ped_x <= 10.5000) | (ped_y > 4.5000) & (car_v <= 0.5000) & (ped_y <= 10.5000) & (ped_x <= 55.5000) & (ped_y <= 9.5000) & (car_x > 20.5000) & (car_x > 59.5000) & (ped_x > 10.5000) | (ped_y > 4.5000) & (car_v <= 0.5000) & (ped_y <= 10.5000) & (ped_x <= 55.5000) & (ped_y > 9.5000) & (car_x <= 21.5000) & (ped_x <= 12.5000) & (car_x <= 10.5000) | (ped_y > 4.5000) & (car_v <= 0.5000) & (ped_y <= 10.5000) & (ped_x <= 55.5000) & (ped_y > 9.5000) & (car_x <= 21.5000) & (ped_x > 12.5000) & (car_x <= 18.5000) | (ped_y > 4.5000) & (car_v <= 0.5000) & (ped_y <= 10.5000) & (ped_x <= 55.5000) & (ped_y > 9.5000) & (car_x <= 21.5000) & (ped_x > 12.5000) & (car_x > 18.5000) | (ped_y > 4.5000) & (car_v <= 0.5000) & (ped_y <= 10.5000) & (ped_x <= 55.5000) & (ped_y > 9.5000) & (car_x > 21.5000) & (car_x > 57.5000) & (car_x <= 59.5000) | (ped_y > 4.5000) & (car_v <= 0.5000) & (ped_y <= 10.5000) & (ped_x <= 55.5000) & (ped_y > 9.5000) & (car_x > 21.5000) & (car_x > 57.5000) & (car_x > 59.5000) | (ped_y > 4.5000) & (car_v <= 0.5000) & (ped_y <= 10.5000) & (ped_x > 55.5000) & (ped_y <= 7.5000) & (ped_x <= 58.5000) & (car_x <= 19.5000) & (car_x <= 17.5000) | (ped_y > 4.5000) & (car_v <= 0.5000) & (ped_y <= 10.5000) & (ped_x > 55.5000) & (ped_y <= 7.5000) & (ped_x <= 58.5000) & (car_x <= 19.5000) & (car_x > 17.5000) | (ped_y > 4.5000) & (car_v <= 0.5000) & (ped_y <= 10.5000) & (ped_x > 55.5000) & (ped_y <= 7.5000) & (ped_x <= 58.5000) & (car_x > 19.5000) & (car_x > 54.5000) | (ped_y > 4.5000) & (car_v <= 0.5000) & (ped_y <= 10.5000) & (ped_x > 55.5000) & (ped_y <= 7.5000) & (ped_x > 58.5000) & (ped_y <= 5.5000) & (car_x <= 21.5000) | (ped_y > 4.5000) & (car_v <= 0.5000) & (ped_y <= 10.5000) & (ped_x > 55.5000) & (ped_y <= 7.5000) & (ped_x > 58.5000) & (ped_y <= 5.5000) & (car_x > 21.5000) | (ped_y > 4.5000) & (car_v <= 0.5000) & (ped_y <= 10.5000) & (ped_x > 55.5000) & (ped_y <= 7.5000) & (ped_x > 58.5000) & (ped_y > 5.5000) & (ped_x <= 59.5000) | (ped_y > 4.5000) & (car_v <= 0.5000) & (ped_y <= 10.5000) & (ped_x > 55.5000) & (ped_y <= 7.5000) & (ped_x > 58.5000) & (ped_y > 5.5000) & (ped_x > 59.5000) | (ped_y > 4.5000) & (car_v <= 0.5000) & (ped_y <= 10.5000) & (ped_x > 55.5000) & (ped_y > 7.5000) & (ped_x <= 57.5000) & (ped_y <= 8.5000) & (car_x <= 20.5000) | (ped_y > 4.5000) & (car_v <= 0.5000) & (ped_y <= 10.5000) & (ped_x > 55.5000) & (ped_y > 7.5000) & (ped_x <= 57.5000) & (ped_y > 8.5000) & (ped_y <= 9.5000) | (ped_y > 4.5000) & (car_v <= 0.5000) & (ped_y <= 10.5000) & (ped_x > 55.5000) & (ped_y > 7.5000) & (ped_x <= 57.5000) & (ped_y > 8.5000) & (ped_y > 9.5000) | (ped_y > 4.5000) & (car_v <= 0.5000) & (ped_y <= 10.5000) & (ped_x > 55.5000) & (ped_y > 7.5000) & (ped_x > 57.5000) & (ped_y <= 8.5000) & (ped_x <= 58.5000) | (ped_y > 4.5000) & (car_v <= 0.5000) & (ped_y <= 10.5000) & (ped_x > 55.5000) & (ped_y > 7.5000) & (ped_x > 57.5000) & (ped_y <= 8.5000) & (ped_x > 58.5000) | (ped_y > 4.5000) & (car_v <= 0.5000) & (ped_y <= 10.5000) & (ped_x > 55.5000) & (ped_y > 7.5000) & (ped_x > 57.5000) & (ped_y > 8.5000) | (ped_y > 4.5000) & (car_v <= 0.5000) & (ped_y > 10.5000) & (ped_x <= 45.5000) & (car_x <= 25.5000) & (ped_x <= 10.5000) & (ped_y <= 12.5000) & (ped_y > 11.5000) | (ped_y > 4.5000) & (car_v <= 0.5000) & (ped_y > 10.5000) & (ped_x <= 45.5000) & (car_x <= 25.5000) & (ped_x <= 10.5000) & (ped_y > 12.5000) & (car_x <= 10.5000) | (ped_y > 4.5000) & (car_v <= 0.5000) & (ped_y > 10.5000) & (ped_x <= 45.5000) & (car_x <= 25.5000) & (ped_x > 10.5000) & (car_x <= 21.5000) & (ped_x <= 11.5000) | (ped_y > 4.5000) & (car_v <= 0.5000) & (ped_y > 10.5000) & (ped_x <= 45.5000) & (car_x <= 25.5000) & (ped_x > 10.5000) & (car_x <= 21.5000) & (ped_x > 11.5000) | (ped_y > 4.5000) & (car_v <= 0.5000) & (ped_y > 10.5000) & (ped_x <= 45.5000) & (car_x <= 25.5000) & (ped_x > 10.5000) & (car_x > 21.5000) & (ped_x <= 37.5000) | (ped_y > 4.5000) & (car_v <= 0.5000) & (ped_y > 10.5000) & (ped_x <= 45.5000) & (car_x <= 25.5000) & (ped_x > 10.5000) & (car_x > 21.5000) & (ped_x > 37.5000) | (ped_y > 4.5000) & (car_v <= 0.5000) & (ped_y > 10.5000) & (ped_x <= 45.5000) & (car_x > 25.5000) & (ped_x <= 20.5000) & (ped_x <= 10.5000) & (ped_y <= 12.5000) | (ped_y > 4.5000) & (car_v <= 0.5000) & (ped_y > 10.5000) & (ped_x <= 45.5000) & (car_x > 25.5000) & (ped_x <= 20.5000) & (ped_x > 10.5000) & (ped_y <= 11.5000) | (ped_y > 4.5000) & (car_v <= 0.5000) & (ped_y > 10.5000) & (ped_x <= 45.5000) & (car_x > 25.5000) & (ped_x <= 20.5000) & (ped_x > 10.5000) & (ped_y > 11.5000) | (ped_y > 4.5000) & (car_v <= 0.5000) & (ped_y > 10.5000) & (ped_x <= 45.5000) & (car_x > 25.5000) & (ped_x > 20.5000) & (ped_y <= 11.5000) & (ped_x > 43.5000) | (ped_y > 4.5000) & (car_v <= 0.5000) & (ped_y > 10.5000) & (ped_x <= 45.5000) & (car_x > 25.5000) & (ped_x > 20.5000) & (ped_y > 11.5000) & (ped_y <= 12.5000) | (ped_y > 4.5000) & (car_v <= 0.5000) & (ped_y > 10.5000) & (ped_x <= 45.5000) & (car_x > 25.5000) & (ped_x > 20.5000) & (ped_y > 11.5000) & (ped_y > 12.5000) | (ped_y > 4.5000) & (car_v <= 0.5000) & (ped_y > 10.5000) & (ped_x > 45.5000) & (ped_x <= 48.5000) & (car_x <= 53.5000) & (car_x <= 41.5000) & (car_x <= 36.5000) | (ped_y > 4.5000) & (car_v <= 0.5000) & (ped_y > 10.5000) & (ped_x > 45.5000) & (ped_x <= 48.5000) & (car_x <= 53.5000) & (car_x <= 41.5000) & (car_x > 36.5000) | (ped_y > 4.5000) & (car_v <= 0.5000) & (ped_y > 10.5000) & (ped_x > 45.5000) & (ped_x <= 48.5000) & (car_x <= 53.5000) & (car_x > 41.5000) & (car_x <= 42.5000) | (ped_y > 4.5000) & (car_v <= 0.5000) & (ped_y > 10.5000) & (ped_x > 45.5000) & (ped_x <= 48.5000) & (car_x <= 53.5000) & (car_x > 41.5000) & (car_x > 42.5000) | (ped_y > 4.5000) & (car_v <= 0.5000) & (ped_y > 10.5000) & (ped_x > 45.5000) & (ped_x <= 48.5000) & (car_x > 53.5000) & (car_x > 57.5000) & (ped_x > 46.5000) | (ped_y > 4.5000) & (car_v <= 0.5000) & (ped_y > 10.5000) & (ped_x > 45.5000) & (ped_x > 48.5000) & (ped_y <= 11.5000) & (ped_x <= 54.5000) & (car_x <= 22.5000) | (ped_y > 4.5000) & (car_v <= 0.5000) & (ped_y > 10.5000) & (ped_x > 45.5000) & (ped_x > 48.5000) & (ped_y <= 11.5000) & (ped_x <= 54.5000) & (car_x > 22.5000) | (ped_y > 4.5000) & (car_v <= 0.5000) & (ped_y > 10.5000) & (ped_x > 45.5000) & (ped_x > 48.5000) & (ped_y <= 11.5000) & (ped_x > 54.5000) & (ped_x <= 55.5000) | (ped_y > 4.5000) & (car_v <= 0.5000) & (ped_y > 10.5000) & (ped_x > 45.5000) & (ped_x > 48.5000) & (ped_y <= 11.5000) & (ped_x > 54.5000) & (ped_x > 55.5000) | (ped_y > 4.5000) & (car_v <= 0.5000) & (ped_y > 10.5000) & (ped_x > 45.5000) & (ped_x > 48.5000) & (ped_y > 11.5000) & (ped_x <= 51.5000) & (car_x <= 44.5000) | (ped_y > 4.5000) & (car_v <= 0.5000) & (ped_y > 10.5000) & (ped_x > 45.5000) & (ped_x > 48.5000) & (ped_y > 11.5000) & (ped_x <= 51.5000) & (car_x > 44.5000) | (ped_y > 4.5000) & (car_v <= 0.5000) & (ped_y > 10.5000) & (ped_x > 45.5000) & (ped_x > 48.5000) & (ped_y > 11.5000) & (ped_x > 51.5000) & (ped_x <= 54.5000) | (ped_y > 4.5000) & (car_v <= 0.5000) & (ped_y > 10.5000) & (ped_x > 45.5000) & (ped_x > 48.5000) & (ped_y > 11.5000) & (ped_x > 51.5000) & (ped_x > 54.5000) | (ped_y > 4.5000) & (car_v > 0.5000) & (ped_y <= 6.5000) & (car_v <= 2.5000) & (car_x <= 22.5000) & (car_x <= 19.5000) & (car_x <= 17.5000) & (car_x <= 16.5000) | (ped_y > 4.5000) & (car_v > 0.5000) & (ped_y <= 6.5000) & (car_v <= 2.5000) & (car_x <= 22.5000) & (car_x <= 19.5000) & (car_x <= 17.5000) & (car_x > 16.5000) | (ped_y > 4.5000) & (car_v > 0.5000) & (ped_y <= 6.5000) & (car_v <= 2.5000) & (car_x <= 22.5000) & (car_x <= 19.5000) & (car_x > 17.5000) & (ped_x <= 44.5000) | (ped_y > 4.5000) & (car_v > 0.5000) & (ped_y <= 6.5000) & (car_v <= 2.5000) & (car_x <= 22.5000) & (car_x <= 19.5000) & (car_x > 17.5000) & (ped_x > 44.5000) | (ped_y > 4.5000) & (car_v > 0.5000) & (ped_y <= 6.5000) & (car_v <= 2.5000) & (car_x <= 22.5000) & (car_x > 19.5000) & (ped_x <= 43.5000) & (car_x <= 21.5000) | (ped_y > 4.5000) & (car_v > 0.5000) & (ped_y <= 6.5000) & (car_v <= 2.5000) & (car_x <= 22.5000) & (car_x > 19.5000) & (ped_x <= 43.5000) & (car_x > 21.5000) | (ped_y > 4.5000) & (car_v > 0.5000) & (ped_y <= 6.5000) & (car_v <= 2.5000) & (car_x <= 22.5000) & (car_x > 19.5000) & (ped_x > 43.5000) & (ped_x <= 53.5000) | (ped_y > 4.5000) & (car_v > 0.5000) & (ped_y <= 6.5000) & (car_v <= 2.5000) & (car_x <= 22.5000) & (car_x > 19.5000) & (ped_x > 43.5000) & (ped_x > 53.5000) | (ped_y > 4.5000) & (car_v > 0.5000) & (ped_y <= 6.5000) & (car_v <= 2.5000) & (car_x > 22.5000) & (car_x <= 43.5000) & (ped_x <= 43.5000) & (car_v > 1.5000) | (ped_y > 4.5000) & (car_v > 0.5000) & (ped_y <= 6.5000) & (car_v <= 2.5000) & (car_x > 22.5000) & (car_x <= 43.5000) & (ped_x > 43.5000) & (ped_x > 55.5000) | (ped_y > 4.5000) & (car_v > 0.5000) & (ped_y <= 6.5000) & (car_v <= 2.5000) & (car_x > 22.5000) & (car_x > 43.5000) & (ped_x > 12.5000) & (ped_x <= 55.5000) | (ped_y > 4.5000) & (car_v > 0.5000) & (ped_y <= 6.5000) & (car_v <= 2.5000) & (car_x > 22.5000) & (car_x > 43.5000) & (ped_x > 12.5000) & (ped_x > 55.5000) | (ped_y > 4.5000) & (car_v > 0.5000) & (ped_y <= 6.5000) & (car_v > 2.5000) & (car_x <= 54.5000) & (ped_x <= 44.5000) & (ped_x <= 10.5000) & (car_v <= 3.5000) | (ped_y > 4.5000) & (car_v > 0.5000) & (ped_y <= 6.5000) & (car_v > 2.5000) & (car_x <= 54.5000) & (ped_x <= 44.5000) & (ped_x <= 10.5000) & (car_v > 3.5000) | (ped_y > 4.5000) & (car_v > 0.5000) & (ped_y <= 6.5000) & (car_v > 2.5000) & (car_x <= 54.5000) & (ped_x <= 44.5000) & (ped_x > 10.5000) & (ped_x <= 43.5000) | (ped_y > 4.5000) & (car_v > 0.5000) & (ped_y <= 6.5000) & (car_v > 2.5000) & (car_x <= 54.5000) & (ped_x <= 44.5000) & (ped_x > 10.5000) & (ped_x > 43.5000) | (ped_y > 4.5000) & (car_v > 0.5000) & (ped_y <= 6.5000) & (car_v > 2.5000) & (car_x <= 54.5000) & (ped_x > 44.5000) & (car_v <= 3.5000) & (car_x <= 36.5000) | (ped_y > 4.5000) & (car_v > 0.5000) & (ped_y <= 6.5000) & (car_v > 2.5000) & (car_x <= 54.5000) & (ped_x > 44.5000) & (car_v <= 3.5000) & (car_x > 36.5000) | (ped_y > 4.5000) & (car_v > 0.5000) & (ped_y <= 6.5000) & (car_v > 2.5000) & (car_x <= 54.5000) & (ped_x > 44.5000) & (car_v > 3.5000) & (car_x <= 34.5000) | (ped_y > 4.5000) & (car_v > 0.5000) & (ped_y <= 6.5000) & (car_v > 2.5000) & (car_x <= 54.5000) & (ped_x > 44.5000) & (car_v > 3.5000) & (car_x > 34.5000) | (ped_y > 4.5000) & (car_v > 0.5000) & (ped_y <= 6.5000) & (car_v > 2.5000) & (car_x > 54.5000) & (ped_x <= 48.5000) & (car_x <= 59.5000) & (car_v <= 3.5000) | (ped_y > 4.5000) & (car_v > 0.5000) & (ped_y <= 6.5000) & (car_v > 2.5000) & (car_x > 54.5000) & (ped_x <= 48.5000) & (car_x <= 59.5000) & (car_v > 3.5000) | (ped_y > 4.5000) & (car_v > 0.5000) & (ped_y <= 6.5000) & (car_v > 2.5000) & (car_x > 54.5000) & (ped_x <= 48.5000) & (car_x > 59.5000) | (ped_y > 4.5000) & (car_v > 0.5000) & (ped_y <= 6.5000) & (car_v > 2.5000) & (car_x > 54.5000) & (ped_x > 48.5000) & (ped_x <= 51.5000) & (car_v <= 4.5000) | (ped_y > 4.5000) & (car_v > 0.5000) & (ped_y <= 6.5000) & (car_v > 2.5000) & (car_x > 54.5000) & (ped_x > 48.5000) & (ped_x <= 51.5000) & (car_v > 4.5000) | (ped_y > 4.5000) & (car_v > 0.5000) & (ped_y <= 6.5000) & (car_v > 2.5000) & (car_x > 54.5000) & (ped_x > 48.5000) & (ped_x > 51.5000) & (ped_x <= 52.5000) | (ped_y > 4.5000) & (car_v > 0.5000) & (ped_y <= 6.5000) & (car_v > 2.5000) & (car_x > 54.5000) & (ped_x > 48.5000) & (ped_x > 51.5000) & (ped_x > 52.5000) | (ped_y > 4.5000) & (car_v > 0.5000) & (ped_y > 6.5000) & (ped_y <= 8.5000) & (car_v <= 1.5000) & (ped_x <= 44.5000) & (ped_x <= 11.5000) & (car_x <= 27.5000) | (ped_y > 4.5000) & (car_v > 0.5000) & (ped_y > 6.5000) & (ped_y <= 8.5000) & (car_v <= 1.5000) & (ped_x <= 44.5000) & (ped_x > 11.5000) & (car_x <= 56.5000) | (ped_y > 4.5000) & (car_v > 0.5000) & (ped_y > 6.5000) & (ped_y <= 8.5000) & (car_v <= 1.5000) & (ped_x <= 44.5000) & (ped_x > 11.5000) & (car_x > 56.5000) | (ped_y > 4.5000) & (car_v > 0.5000) & (ped_y > 6.5000) & (ped_y <= 8.5000) & (car_v <= 1.5000) & (ped_x > 44.5000) & (ped_x <= 54.5000) & (car_x <= 23.5000) | (ped_y > 4.5000) & (car_v > 0.5000) & (ped_y > 6.5000) & (ped_y <= 8.5000) & (car_v <= 1.5000) & (ped_x > 44.5000) & (ped_x > 54.5000) & (ped_x <= 55.5000) | (ped_y > 4.5000) & (car_v > 0.5000) & (ped_y > 6.5000) & (ped_y <= 8.5000) & (car_v <= 1.5000) & (ped_x > 44.5000) & (ped_x > 54.5000) & (ped_x > 55.5000) | (ped_y > 4.5000) & (car_v > 0.5000) & (ped_y > 6.5000) & (ped_y <= 8.5000) & (car_v > 1.5000) & (car_x <= 54.5000) & (ped_x <= 44.5000) & (ped_x <= 10.5000) | (ped_y > 4.5000) & (car_v > 0.5000) & (ped_y > 6.5000) & (ped_y <= 8.5000) & (car_v > 1.5000) & (car_x <= 54.5000) & (ped_x <= 44.5000) & (ped_x > 10.5000) | (ped_y > 4.5000) & (car_v > 0.5000) & (ped_y > 6.5000) & (ped_y <= 8.5000) & (car_v > 1.5000) & (car_x <= 54.5000) & (ped_x > 44.5000) & (car_v <= 2.5000) | (ped_y > 4.5000) & (car_v > 0.5000) & (ped_y > 6.5000) & (ped_y <= 8.5000) & (car_v > 1.5000) & (car_x <= 54.5000) & (ped_x > 44.5000) & (car_v > 2.5000) | (ped_y > 4.5000) & (car_v > 0.5000) & (ped_y > 6.5000) & (ped_y <= 8.5000) & (car_v > 1.5000) & (car_x > 54.5000) & (ped_x <= 11.5000) & (car_x <= 57.5000) | (ped_y > 4.5000) & (car_v > 0.5000) & (ped_y > 6.5000) & (ped_y <= 8.5000) & (car_v > 1.5000) & (car_x > 54.5000) & (ped_x <= 11.5000) & (car_x > 57.5000) | (ped_y > 4.5000) & (car_v > 0.5000) & (ped_y > 6.5000) & (ped_y <= 8.5000) & (car_v > 1.5000) & (car_x > 54.5000) & (ped_x > 11.5000) & (ped_x <= 46.5000) | (ped_y > 4.5000) & (car_v > 0.5000) & (ped_y > 6.5000) & (ped_y <= 8.5000) & (car_v > 1.5000) & (car_x > 54.5000) & (ped_x > 11.5000) & (ped_x > 46.5000) | (ped_y > 4.5000) & (car_v > 0.5000) & (ped_y > 6.5000) & (ped_y > 8.5000) & (ped_x <= 11.5000) & (car_x <= 56.5000) & (car_v <= 1.5000) & (car_x <= 30.5000) | (ped_y > 4.5000) & (car_v > 0.5000) & (ped_y > 6.5000) & (ped_y > 8.5000) & (ped_x <= 11.5000) & (car_x <= 56.5000) & (car_v <= 1.5000) & (car_x > 30.5000) | (ped_y > 4.5000) & (car_v > 0.5000) & (ped_y > 6.5000) & (ped_y > 8.5000) & (ped_x <= 11.5000) & (car_x <= 56.5000) & (car_v > 1.5000) & (car_x <= 50.5000) | (ped_y > 4.5000) & (car_v > 0.5000) & (ped_y > 6.5000) & (ped_y > 8.5000) & (ped_x <= 11.5000) & (car_x <= 56.5000) & (car_v > 1.5000) & (car_x > 50.5000) | (ped_y > 4.5000) & (car_v > 0.5000) & (ped_y > 6.5000) & (ped_y > 8.5000) & (ped_x <= 11.5000) & (car_x > 56.5000) & (car_x <= 59.5000) & (car_v <= 3.5000) | (ped_y > 4.5000) & (car_v > 0.5000) & (ped_y > 6.5000) & (ped_y > 8.5000) & (ped_x <= 11.5000) & (car_x > 56.5000) & (car_x <= 59.5000) & (car_v > 3.5000) | (ped_y > 4.5000) & (car_v > 0.5000) & (ped_y > 6.5000) & (ped_y > 8.5000) & (ped_x <= 11.5000) & (car_x > 56.5000) & (car_x > 59.5000) | (ped_y > 4.5000) & (car_v > 0.5000) & (ped_y > 6.5000) & (ped_y > 8.5000) & (ped_x > 11.5000) & (car_x <= 53.5000) & (car_v <= 1.5000) & (car_x <= 34.5000) | (ped_y > 4.5000) & (car_v > 0.5000) & (ped_y > 6.5000) & (ped_y > 8.5000) & (ped_x > 11.5000) & (car_x <= 53.5000) & (car_v <= 1.5000) & (car_x > 34.5000) | (ped_y > 4.5000) & (car_v > 0.5000) & (ped_y > 6.5000) & (ped_y > 8.5000) & (ped_x > 11.5000) & (car_x <= 53.5000) & (car_v > 1.5000) & (car_v <= 2.5000) | (ped_y > 4.5000) & (car_v > 0.5000) & (ped_y > 6.5000) & (ped_y > 8.5000) & (ped_x > 11.5000) & (car_x <= 53.5000) & (car_v > 1.5000) & (car_v > 2.5000) | (ped_y > 4.5000) & (car_v > 0.5000) & (ped_y > 6.5000) & (ped_y > 8.5000) & (ped_x > 11.5000) & (car_x > 53.5000) & (ped_x <= 13.5000) & (car_v <= 3.5000) | (ped_y > 4.5000) & (car_v > 0.5000) & (ped_y > 6.5000) & (ped_y > 8.5000) & (ped_x > 11.5000) & (car_x > 53.5000) & (ped_x <= 13.5000) & (car_v > 3.5000) | (ped_y > 4.5000) & (car_v > 0.5000) & (ped_y > 6.5000) & (ped_y > 8.5000) & (ped_x > 11.5000) & (car_x > 53.5000) & (ped_x > 13.5000) & (car_v <= 3.5000) | (ped_y > 4.5000) & (car_v > 0.5000) & (ped_y > 6.5000) & (ped_y > 8.5000) & (ped_x > 11.5000) & (car_x > 53.5000) & (ped_x > 13.5000) & (car_v > 3.5000) |  \n",
      "\n",
      "Rules for class 0:\n",
      "  - (ped_y <= 4.5000) & (car_v <= 3.5000) & (ped_x <= 55.5000) & (ped_y <= 2.5000) & (car_x <= 27.5000) & (car_x > 11.5000) & (car_x <= 23.5000) & (car_v > 1.5000) | (ped_y <= 4.5000) & (car_v <= 3.5000) & (ped_x <= 55.5000) & (ped_y > 2.5000) & (car_v <= 2.5000) & (car_x <= 17.5000) & (car_v <= 0.5000) & (car_x <= 11.5000) | (ped_y <= 4.5000) & (car_v <= 3.5000) & (ped_x <= 55.5000) & (ped_y > 2.5000) & (car_v <= 2.5000) & (car_x > 17.5000) & (car_x <= 59.5000) & (car_v > 1.5000) | (ped_y <= 4.5000) & (car_v <= 3.5000) & (ped_x <= 55.5000) & (ped_y > 2.5000) & (car_v > 2.5000) & (ped_y <= 3.5000) & (car_x > 17.5000) & (ped_x <= 43.5000) | (ped_y <= 4.5000) & (car_v <= 3.5000) & (ped_x > 55.5000) & (car_v <= 0.5000) & (car_x <= 56.5000) & (car_x <= 16.5000) & (ped_x <= 58.5000) & (ped_y <= 2.5000) | (ped_y <= 4.5000) & (car_v <= 3.5000) & (ped_x > 55.5000) & (car_v <= 0.5000) & (car_x <= 56.5000) & (car_x > 16.5000) & (ped_x <= 59.5000) & (car_x > 54.5000) | (ped_y <= 4.5000) & (car_v <= 3.5000) & (ped_x > 55.5000) & (car_v <= 0.5000) & (car_x <= 56.5000) & (car_x > 16.5000) & (ped_x > 59.5000) & (car_x > 19.5000) | (ped_y <= 4.5000) & (car_v <= 3.5000) & (ped_x > 55.5000) & (car_v <= 0.5000) & (car_x > 56.5000) & (ped_y <= 0.5000) & (ped_x > 56.5000) & (car_x <= 57.5000) | (ped_y <= 4.5000) & (car_v <= 3.5000) & (ped_x > 55.5000) & (car_v > 0.5000) & (ped_x <= 57.5000) & (ped_y <= 2.5000) & (car_x > 16.5000) & (car_x <= 55.5000) | (ped_y <= 4.5000) & (car_v > 3.5000) & (ped_y <= 1.5000) & (ped_x <= 55.5000) & (car_v <= 4.5000) & (car_x > 32.5000) & (car_x <= 48.5000) & (ped_y > 0.5000) | (ped_y <= 4.5000) & (car_v > 3.5000) & (ped_y <= 1.5000) & (ped_x <= 55.5000) & (car_v > 4.5000) & (car_x <= 34.5000) & (car_x > 14.5000) & (car_x > 24.5000) | (ped_y <= 4.5000) & (car_v > 3.5000) & (ped_y > 1.5000) & (ped_y <= 2.5000) & (car_v <= 4.5000) & (car_x > 18.5000) & (car_x <= 37.5000) & (ped_x <= 54.5000) | (ped_y > 4.5000) & (car_v <= 0.5000) & (ped_y <= 10.5000) & (ped_x <= 55.5000) & (ped_y <= 9.5000) & (car_x <= 20.5000) & (ped_y <= 7.5000) & (car_x <= 14.5000) | (ped_y > 4.5000) & (car_v <= 0.5000) & (ped_y <= 10.5000) & (ped_x <= 55.5000) & (ped_y <= 9.5000) & (car_x <= 20.5000) & (ped_y <= 7.5000) & (car_x > 14.5000) | (ped_y > 4.5000) & (car_v <= 0.5000) & (ped_y <= 10.5000) & (ped_x <= 55.5000) & (ped_y <= 9.5000) & (car_x <= 20.5000) & (ped_y > 7.5000) & (car_x > 15.5000) | (ped_y > 4.5000) & (car_v <= 0.5000) & (ped_y <= 10.5000) & (ped_x <= 55.5000) & (ped_y > 9.5000) & (car_x <= 21.5000) & (ped_x <= 12.5000) & (car_x > 10.5000) | (ped_y > 4.5000) & (car_v <= 0.5000) & (ped_y <= 10.5000) & (ped_x <= 55.5000) & (ped_y > 9.5000) & (car_x > 21.5000) & (car_x <= 57.5000) & (car_x <= 23.5000) | (ped_y > 4.5000) & (car_v <= 0.5000) & (ped_y <= 10.5000) & (ped_x <= 55.5000) & (ped_y > 9.5000) & (car_x > 21.5000) & (car_x <= 57.5000) & (car_x > 23.5000) | (ped_y > 4.5000) & (car_v <= 0.5000) & (ped_y <= 10.5000) & (ped_x > 55.5000) & (ped_y <= 7.5000) & (ped_x <= 58.5000) & (car_x > 19.5000) & (car_x <= 54.5000) | (ped_y > 4.5000) & (car_v <= 0.5000) & (ped_y <= 10.5000) & (ped_x > 55.5000) & (ped_y > 7.5000) & (ped_x <= 57.5000) & (ped_y <= 8.5000) & (car_x > 20.5000) | (ped_y > 4.5000) & (car_v <= 0.5000) & (ped_y > 10.5000) & (ped_x <= 45.5000) & (car_x <= 25.5000) & (ped_x <= 10.5000) & (ped_y <= 12.5000) & (ped_y <= 11.5000) | (ped_y > 4.5000) & (car_v <= 0.5000) & (ped_y > 10.5000) & (ped_x <= 45.5000) & (car_x > 25.5000) & (ped_x > 20.5000) & (ped_y <= 11.5000) & (ped_x <= 43.5000) | (ped_y > 4.5000) & (car_v <= 0.5000) & (ped_y > 10.5000) & (ped_x > 45.5000) & (ped_x <= 48.5000) & (car_x > 53.5000) & (car_x <= 57.5000) & (ped_x > 46.5000) | (ped_y > 4.5000) & (car_v <= 0.5000) & (ped_y > 10.5000) & (ped_x > 45.5000) & (ped_x <= 48.5000) & (car_x > 53.5000) & (car_x > 57.5000) & (ped_x <= 46.5000) | (ped_y > 4.5000) & (car_v > 0.5000) & (ped_y <= 6.5000) & (car_v <= 2.5000) & (car_x > 22.5000) & (car_x <= 43.5000) & (ped_x <= 43.5000) & (car_v <= 1.5000) | (ped_y > 4.5000) & (car_v > 0.5000) & (ped_y <= 6.5000) & (car_v <= 2.5000) & (car_x > 22.5000) & (car_x <= 43.5000) & (ped_x > 43.5000) & (ped_x <= 55.5000) | (ped_y > 4.5000) & (car_v > 0.5000) & (ped_y <= 6.5000) & (car_v <= 2.5000) & (car_x > 22.5000) & (car_x > 43.5000) & (ped_x <= 12.5000) & (car_x <= 56.5000) | (ped_y > 4.5000) & (car_v > 0.5000) & (ped_y > 6.5000) & (ped_y <= 8.5000) & (car_v <= 1.5000) & (ped_x <= 44.5000) & (ped_x <= 11.5000) & (car_x > 27.5000) | (ped_y > 4.5000) & (car_v > 0.5000) & (ped_y > 6.5000) & (ped_y <= 8.5000) & (car_v <= 1.5000) & (ped_x > 44.5000) & (ped_x <= 54.5000) & (car_x > 23.5000) |  \n",
      "\n",
      "Rules for class 1:\n",
      "  - (ped_y <= 4.5000) & (car_v <= 3.5000) & (ped_x <= 55.5000) & (ped_y <= 2.5000) & (car_x <= 27.5000) & (car_x <= 11.5000) & (ped_y <= 0.5000) & (ped_x <= 39.5000) | (ped_y <= 4.5000) & (car_v <= 3.5000) & (ped_x <= 55.5000) & (ped_y <= 2.5000) & (car_x <= 27.5000) & (car_x <= 11.5000) & (ped_y <= 0.5000) & (ped_x > 39.5000) | (ped_y <= 4.5000) & (car_v <= 3.5000) & (ped_x <= 55.5000) & (ped_y <= 2.5000) & (car_x <= 27.5000) & (car_x <= 11.5000) & (ped_y > 0.5000) & (car_v <= 0.5000) | (ped_y <= 4.5000) & (car_v <= 3.5000) & (ped_x <= 55.5000) & (ped_y <= 2.5000) & (car_x <= 27.5000) & (car_x > 11.5000) & (car_x <= 23.5000) & (car_v <= 1.5000) | (ped_y <= 4.5000) & (car_v <= 3.5000) & (ped_x <= 55.5000) & (ped_y <= 2.5000) & (car_x <= 27.5000) & (car_x > 11.5000) & (car_x > 23.5000) & (ped_x <= 37.5000) | (ped_y <= 4.5000) & (car_v <= 3.5000) & (ped_x <= 55.5000) & (ped_y <= 2.5000) & (car_x <= 27.5000) & (car_x > 11.5000) & (car_x > 23.5000) & (ped_x > 37.5000) | (ped_y <= 4.5000) & (car_v <= 3.5000) & (ped_x <= 55.5000) & (ped_y <= 2.5000) & (car_x > 27.5000) & (car_x <= 59.5000) & (car_v <= 2.5000) & (ped_x <= 41.5000) | (ped_y <= 4.5000) & (car_v <= 3.5000) & (ped_x <= 55.5000) & (ped_y <= 2.5000) & (car_x > 27.5000) & (car_x <= 59.5000) & (car_v <= 2.5000) & (ped_x > 41.5000) | (ped_y <= 4.5000) & (car_v <= 3.5000) & (ped_x <= 55.5000) & (ped_y <= 2.5000) & (car_x > 27.5000) & (car_x <= 59.5000) & (car_v > 2.5000) & (car_x <= 47.5000) | (ped_y <= 4.5000) & (car_v <= 3.5000) & (ped_x <= 55.5000) & (ped_y <= 2.5000) & (car_x > 27.5000) & (car_x <= 59.5000) & (car_v > 2.5000) & (car_x > 47.5000) | (ped_y <= 4.5000) & (car_v <= 3.5000) & (ped_x <= 55.5000) & (ped_y > 2.5000) & (car_v <= 2.5000) & (car_x <= 17.5000) & (car_v <= 0.5000) & (car_x > 11.5000) | (ped_y <= 4.5000) & (car_v <= 3.5000) & (ped_x <= 55.5000) & (ped_y > 2.5000) & (car_v <= 2.5000) & (car_x > 17.5000) & (car_x <= 59.5000) & (car_v <= 1.5000) | (ped_y <= 4.5000) & (car_v <= 3.5000) & (ped_x > 55.5000) & (car_v <= 0.5000) & (car_x <= 56.5000) & (car_x > 16.5000) & (ped_x <= 59.5000) & (car_x <= 54.5000) | (ped_y <= 4.5000) & (car_v <= 3.5000) & (ped_x > 55.5000) & (car_v <= 0.5000) & (car_x > 56.5000) & (ped_y <= 0.5000) & (ped_x <= 56.5000) & (car_x <= 59.5000) | (ped_y <= 4.5000) & (car_v > 3.5000) & (ped_y <= 1.5000) & (ped_x <= 55.5000) & (car_v <= 4.5000) & (car_x <= 32.5000) & (car_x <= 21.5000) & (car_x > 13.5000) | (ped_y <= 4.5000) & (car_v > 3.5000) & (ped_y <= 1.5000) & (ped_x <= 55.5000) & (car_v <= 4.5000) & (car_x <= 32.5000) & (car_x > 21.5000) & (car_x <= 29.5000) | (ped_y <= 4.5000) & (car_v > 3.5000) & (ped_y <= 1.5000) & (ped_x <= 55.5000) & (car_v <= 4.5000) & (car_x <= 32.5000) & (car_x > 21.5000) & (car_x > 29.5000) | (ped_y <= 4.5000) & (car_v > 3.5000) & (ped_y <= 1.5000) & (ped_x <= 55.5000) & (car_v <= 4.5000) & (car_x > 32.5000) & (car_x <= 48.5000) & (ped_y <= 0.5000) | (ped_y <= 4.5000) & (car_v > 3.5000) & (ped_y <= 1.5000) & (ped_x <= 55.5000) & (car_v > 4.5000) & (car_x <= 34.5000) & (car_x > 14.5000) & (car_x <= 24.5000) | (ped_y <= 4.5000) & (car_v > 3.5000) & (ped_y > 1.5000) & (ped_y <= 2.5000) & (car_v > 4.5000) & (car_x > 54.5000) & (car_x <= 56.5000) & (ped_x <= 38.5000) | (ped_y > 4.5000) & (car_v <= 0.5000) & (ped_y <= 10.5000) & (ped_x <= 55.5000) & (ped_y <= 9.5000) & (car_x > 20.5000) & (car_x <= 59.5000) & (ped_y <= 7.5000) | (ped_y > 4.5000) & (car_v <= 0.5000) & (ped_y <= 10.5000) & (ped_x <= 55.5000) & (ped_y <= 9.5000) & (car_x > 20.5000) & (car_x <= 59.5000) & (ped_y > 7.5000) | (ped_y > 4.5000) & (car_v <= 0.5000) & (ped_y > 10.5000) & (ped_x <= 45.5000) & (car_x <= 25.5000) & (ped_x <= 10.5000) & (ped_y > 12.5000) & (car_x > 10.5000) | (ped_y > 4.5000) & (car_v <= 0.5000) & (ped_y > 10.5000) & (ped_x <= 45.5000) & (car_x > 25.5000) & (ped_x <= 20.5000) & (ped_x <= 10.5000) & (ped_y > 12.5000) | (ped_y > 4.5000) & (car_v <= 0.5000) & (ped_y > 10.5000) & (ped_x > 45.5000) & (ped_x <= 48.5000) & (car_x > 53.5000) & (car_x <= 57.5000) & (ped_x <= 46.5000) | (ped_y > 4.5000) & (car_v > 0.5000) & (ped_y <= 6.5000) & (car_v <= 2.5000) & (car_x > 22.5000) & (car_x > 43.5000) & (ped_x <= 12.5000) & (car_x > 56.5000) |  \n",
      "\n"
     ]
    }
   ],
   "source": [
    "feature_names = ['car_x', 'car_v', 'ped_x', 'ped_y']\n",
    "class_names = [-1, 0, 1]\n",
    "max_tree_depth = 8\n",
    "\n",
    "\n",
    "# Train the decision tree with costs\n",
    "tree = DecisionTreeClassifier(max_depth=max_tree_depth)\n",
    "tree.fit(obs_data, action_chosen, sample_weight=costs)\n",
    "# Calculate the cost function value\n",
    "cost_value = evaluate_cost(tree, obs_data, action_chosen, costs)\n",
    "print(f\"Cost function value: {100*cost_value/np.sum(costs)}%\")\n",
    "\n",
    "# Extract rules\n",
    "rules = extract_rules(tree, feature_names, class_names, max_tree_depth)\n",
    "\n",
    "# Print rules for each class\n",
    "for class_name, rule_list in rules.items():\n",
    "    print(f\"Rules for class {class_name}:\")\n",
    "    rulestr = \"  - \"\n",
    "    for rule in rule_list:\n",
    "        rulestr += f\"{rule} | \"\n",
    "#         print(f\"  - If {rule}\")\n",
    "    print(rulestr, \"\\n\")\n",
    "\n",
    "# export_text(tree, feature_names=feature_names, show_weights=False, max_depth=max_tree_depth)"
   ]
  },
  {
   "cell_type": "markdown",
   "id": "684c7e71",
   "metadata": {},
   "source": [
    "### Full strategy version -- way too much for storm"
   ]
  },
  {
   "cell_type": "code",
   "execution_count": 13,
   "id": "65b855a2",
   "metadata": {},
   "outputs": [],
   "source": [
    "# accstr = \"\"\n",
    "# firstone=True\n",
    "# for obs in acts[1]:\n",
    "#     if firstone:\n",
    "#         firstone=False\n",
    "#     else:\n",
    "#         accstr += \" | \\n\"\n",
    "#     accstr += f\"(car_x={obs[0]} & car_v={obs[1]} & ped_x={obs[2]} & ped_y={obs[3]})\"\n",
    "# accstr = f\"({accstr})\"\n",
    "\n",
    "# with open('accstr.txt', 'w') as fp:\n",
    "#     fp.write(accstr)"
   ]
  },
  {
   "cell_type": "markdown",
   "id": "3b0c7c17",
   "metadata": {},
   "source": [
    "## Docker Example"
   ]
  },
  {
   "cell_type": "code",
   "execution_count": 67,
   "id": "ec09ab25",
   "metadata": {},
   "outputs": [
    {
     "ename": "ContainerError",
     "evalue": "Command 'storm --prism tmp/mdp.pm --prop prism_files/mdp_props.pm --trace-input tmp/tracepm.txt --buildstateval' in image 'lposch/tempest-devel-traces:latest' returned non-zero exit status 1: b''",
     "output_type": "error",
     "traceback": [
      "\u001b[0;31m---------------------------------------------------------------------------\u001b[0m",
      "\u001b[0;31mContainerError\u001b[0m                            Traceback (most recent call last)",
      "\u001b[0;32m/tmp/ipykernel_817107/793033924.py\u001b[0m in \u001b[0;36m<module>\u001b[0;34m\u001b[0m\n\u001b[1;32m      1\u001b[0m \u001b[0mclient\u001b[0m \u001b[0;34m=\u001b[0m \u001b[0mdocker\u001b[0m\u001b[0;34m.\u001b[0m\u001b[0mfrom_env\u001b[0m\u001b[0;34m(\u001b[0m\u001b[0;34m)\u001b[0m\u001b[0;34m\u001b[0m\u001b[0;34m\u001b[0m\u001b[0m\n\u001b[0;32m----> 2\u001b[0;31m \u001b[0maux\u001b[0m \u001b[0;34m=\u001b[0m \u001b[0mclient\u001b[0m\u001b[0;34m.\u001b[0m\u001b[0mcontainers\u001b[0m\u001b[0;34m.\u001b[0m\u001b[0mrun\u001b[0m\u001b[0;34m(\u001b[0m\u001b[0;34m\"lposch/tempest-devel-traces:latest\"\u001b[0m\u001b[0;34m,\u001b[0m \u001b[0;34mf\"storm --prism tmp/mdp.pm --prop prism_files/mdp_props.pm --trace-input tmp/tracepm.txt --buildstateval\"\u001b[0m\u001b[0;34m,\u001b[0m \u001b[0mvolumes\u001b[0m \u001b[0;34m=\u001b[0m \u001b[0;34m{\u001b[0m\u001b[0mos\u001b[0m\u001b[0;34m.\u001b[0m\u001b[0mgetcwd\u001b[0m\u001b[0;34m(\u001b[0m\u001b[0;34m)\u001b[0m\u001b[0;34m:\u001b[0m \u001b[0;34m{\u001b[0m\u001b[0;34m'bind'\u001b[0m\u001b[0;34m:\u001b[0m \u001b[0;34m'/mnt/vol1'\u001b[0m\u001b[0;34m,\u001b[0m \u001b[0;34m'mode'\u001b[0m\u001b[0;34m:\u001b[0m \u001b[0;34m'rw'\u001b[0m\u001b[0;34m}\u001b[0m\u001b[0;34m}\u001b[0m\u001b[0;34m,\u001b[0m \u001b[0mworking_dir\u001b[0m \u001b[0;34m=\u001b[0m \u001b[0;34m\"/mnt/vol1\"\u001b[0m\u001b[0;34m,\u001b[0m \u001b[0mstderr\u001b[0m \u001b[0;34m=\u001b[0m \u001b[0;32mTrue\u001b[0m\u001b[0;34m)\u001b[0m\u001b[0;34m\u001b[0m\u001b[0;34m\u001b[0m\u001b[0m\n\u001b[0m",
      "\u001b[0;32m~/.local/lib/python3.10/site-packages/docker/models/containers.py\u001b[0m in \u001b[0;36mrun\u001b[0;34m(self, image, command, stdout, stderr, remove, **kwargs)\u001b[0m\n\u001b[1;32m    903\u001b[0m             \u001b[0mcontainer\u001b[0m\u001b[0;34m.\u001b[0m\u001b[0mremove\u001b[0m\u001b[0;34m(\u001b[0m\u001b[0;34m)\u001b[0m\u001b[0;34m\u001b[0m\u001b[0;34m\u001b[0m\u001b[0m\n\u001b[1;32m    904\u001b[0m         \u001b[0;32mif\u001b[0m \u001b[0mexit_status\u001b[0m \u001b[0;34m!=\u001b[0m \u001b[0;36m0\u001b[0m\u001b[0;34m:\u001b[0m\u001b[0;34m\u001b[0m\u001b[0;34m\u001b[0m\u001b[0m\n\u001b[0;32m--> 905\u001b[0;31m             raise ContainerError(\n\u001b[0m\u001b[1;32m    906\u001b[0m                 \u001b[0mcontainer\u001b[0m\u001b[0;34m,\u001b[0m \u001b[0mexit_status\u001b[0m\u001b[0;34m,\u001b[0m \u001b[0mcommand\u001b[0m\u001b[0;34m,\u001b[0m \u001b[0mimage\u001b[0m\u001b[0;34m,\u001b[0m \u001b[0mout\u001b[0m\u001b[0;34m\u001b[0m\u001b[0;34m\u001b[0m\u001b[0m\n\u001b[1;32m    907\u001b[0m             )\n",
      "\u001b[0;31mContainerError\u001b[0m: Command 'storm --prism tmp/mdp.pm --prop prism_files/mdp_props.pm --trace-input tmp/tracepm.txt --buildstateval' in image 'lposch/tempest-devel-traces:latest' returned non-zero exit status 1: b''"
     ]
    }
   ],
   "source": [
    "client = docker.from_env()     \n",
    "aux = client.containers.run(\"lposch/tempest-devel-traces:latest\", f\"storm --prism tmp/mdp.pm --prop prism_files/mdp_props.pm --trace-input tmp/tracepm.txt --buildstateval\", volumes = {os.getcwd(): {'bind': '/mnt/vol1', 'mode': 'rw'}}, working_dir = \"/mnt/vol1\", stderr = True)"
   ]
  },
  {
   "cell_type": "code",
   "execution_count": 18,
   "id": "a528e7f5",
   "metadata": {},
   "outputs": [],
   "source": [
    "client = docker.from_env()     \n",
    "stormcommand = f\"storm --prism tmp/mdp.pm --prop prism_files/mdp_props.pm --trace-input tmp/tracepm.txt --exportresult mdppropos.txt --buildstateval\"\n",
    "aux = client.containers.run(\"lposch/tempest-devel-traces:latest\", stormcommand, \n",
    "                        volumes = {os.getcwd(): {'bind': '/mnt/vol1', 'mode': 'rw'}}, \n",
    "                        working_dir = \"/mnt/vol1\", stderr = True,\n",
    "                       stdout=True,\n",
    "    detach=True # Run the container in detached mode to capture logs later\n",
    "                       )\n",
    "result = aux.wait()  # Wait for the container to finish\n",
    "logs = aux.logs().decode(\"utf-8\")  # Capture the logs\n",
    "restr = \"Result (for initial states): \""
   ]
  },
  {
   "cell_type": "code",
   "execution_count": 19,
   "id": "c5bb07f5",
   "metadata": {},
   "outputs": [
    {
     "name": "stdout",
     "output_type": "stream",
     "text": [
      "Storm 1.6.3\n",
      "\n",
      "Date: Wed Sep 11 12:25:09 2024\n",
      "Command line arguments: --prism tmp/mdp.pm --prop prism_files/mdp_props.pm --trace-input tmp/tracepm.txt --exportresult mdppropos.txt --buildstateval\n",
      "Current working directory: /mnt/vol1\n",
      "\n",
      "Time for model input parsing: 0.011s.\n",
      "\n",
      " WARN (TraceInputFileParser.h:30): State \"turn=1 & crashed=0 & car_x=42 & car_v=0 & finished=0 & ped_x=46 & ped_y=8\" is invalid, this state is removed!\n",
      " WARN (TraceInputFileParser.h:30): State \"turn=1 & crashed=0 & car_x=42 & car_v=0 & finished=0 & ped_x=49 & ped_y=8\" is invalid, this state is removed!\n",
      " WARN (TraceInputFileParser.h:30): State \"turn=1 & crashed=0 & car_x=44 & car_v=2 & finished=0 & ped_x=46 & ped_y=10\" is invalid, this state is removed!\n",
      " WARN (TraceInputFileParser.h:30): State \"turn=1 & crashed=0 & car_x=49 & car_v=5 & finished=0 & ped_x=49 & ped_y=12\" is invalid, this state is removed!\n",
      " WARN (TraceInputFileParser.h:30): State \"turn=1 & crashed=0 & car_x=54 & car_v=4 & finished=0 & ped_x=46 & ped_y=13\" is invalid, this state is removed!\n",
      " WARN (TraceInputFileParser.h:30): State \"turn=1 & crashed=0 & car_x=59 & car_v=5 & finished=0 & ped_x=48 & ped_y=13\" is invalid, this state is removed!\n",
      " WARN (TraceInputFileParser.h:30): State \"turn=1 & crashed=0 & car_x=60 & car_v=5 & finished=0 & ped_x=51 & ped_y=13\" is invalid, this state is removed!\n",
      "Time for model construction: 3.751s.\n",
      "\n",
      "-------------------------------------------------------------- \n",
      "Model type: \tMDP (sparse)\n",
      "States: \t209240\n",
      "Transitions: \t4420088\n",
      "Choices: \t506090\n",
      "Reward Models:  none\n",
      "State Labels: \t4 labels\n",
      "   * deadlock -> 0 item(s)\n",
      "   * init -> 9 item(s)\n",
      "   * not_let_pass -> 90834 item(s)\n",
      "   * crash -> 2292 item(s)\n",
      "Choice Labels: \tnone\n",
      "-------------------------------------------------------------- \n",
      "\n",
      "Creating Trace Analysis for:\n",
      "Model checking property \"1\": Pmax=? [true U<=50 \"not_let_pass\"] ...\n",
      "Write to file mdppropos.txt.\n",
      "Result (for initial states): {0, 0.6234581275, 0.187454271, 0.3946205778, 0.7753528998, 0.4865691746, 0.1106109733, 0.1517811676, 0.694782958}\n",
      "Time for model checking: 0.986s.\n",
      "\n",
      "Creating Trace Analysis for:\n",
      "Model checking property \"2\": Pmin=? [true U<=50 \"not_let_pass\"] ...\n",
      " WARN (model-handling.h:1051): Prepending 1 to file name for this property because there are multiple properties.\n",
      "Write to file 1mdppropos.txt.\n",
      "Result (for initial states): {0, 0.09315244687, 0.01711307147, 0.1034155399, 0.2896219398, 0.003707955698, 0.002845277574, 0.033487812, 0.3526549247}\n",
      "Time for model checking: 0.891s.\n",
      "\n",
      "Creating Trace Analysis for:\n",
      "Model checking property \"3\": Pmax=? [true U<=50 \"crash\"] ...\n",
      " WARN (model-handling.h:1051): Prepending 2 to file name for this property because there are multiple properties.\n",
      "Write to file 2mdppropos.txt.\n",
      "Result (for initial states): {0, 0.4495946757, 0.2297010478, 0.5993959867, 0.5710405717, 0.3910306515, 0.1846289122, 0.1298711001, 0.4994567449}\n",
      "Time for model checking: 1.653s.\n",
      "\n",
      "Creating Trace Analysis for:\n",
      "Model checking property \"4\": Pmin=? [true U<=50 \"crash\"] ...\n",
      " WARN (model-handling.h:1051): Prepending 3 to file name for this property because there are multiple properties.\n",
      "Write to file 3mdppropos.txt.\n",
      "Result (for initial states): {0, 0.07561394832, 0.07124193129, 0.3186592167, 0.1587700598, 0.003565266263, 0.01322239526, 0, 0.2015188376}\n",
      "Time for model checking: 0.419s.\n",
      "\n"
     ]
    }
   ],
   "source": [
    "print(logs)"
   ]
  },
  {
   "cell_type": "code",
   "execution_count": 79,
   "id": "81b9022f",
   "metadata": {},
   "outputs": [
    {
     "data": {
      "text/plain": [
       "{'StatusCode': 139}"
      ]
     },
     "execution_count": 79,
     "metadata": {},
     "output_type": "execute_result"
    }
   ],
   "source": [
    "result"
   ]
  },
  {
   "cell_type": "code",
   "execution_count": null,
   "id": "d246bb26",
   "metadata": {},
   "outputs": [],
   "source": []
  }
 ],
 "metadata": {
  "kernelspec": {
   "display_name": "Python 3",
   "language": "python",
   "name": "python3"
  },
  "language_info": {
   "codemirror_mode": {
    "name": "ipython",
    "version": 3
   },
   "file_extension": ".py",
   "mimetype": "text/x-python",
   "name": "python",
   "nbconvert_exporter": "python",
   "pygments_lexer": "ipython3",
   "version": "3.10.12"
  }
 },
 "nbformat": 4,
 "nbformat_minor": 5
}
